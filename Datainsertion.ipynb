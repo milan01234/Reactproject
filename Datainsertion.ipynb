{
 "cells": [
  {
   "cell_type": "code",
   "execution_count": 3,
   "metadata": {},
   "outputs": [
    {
     "name": "stdout",
     "output_type": "stream",
     "text": [
      "Index(['Uniq Id', 'Product Name', 'Brand Name', 'Asin', 'Category',\n",
      "       'Upc Ean Code', 'List Price', 'Selling Price', 'Quantity',\n",
      "       'Model Number', 'About Product', 'Product Specification',\n",
      "       'Technical Details', 'Shipping Weight', 'Product Dimensions', 'Image',\n",
      "       'Variants', 'Sku', 'Product Url', 'Stock', 'Product Details',\n",
      "       'Dimensions', 'Color', 'Ingredients', 'Direction To Use',\n",
      "       'Is Amazon Seller', 'Size Quantity Variant', 'Product Description'],\n",
      "      dtype='object')\n"
     ]
    }
   ],
   "source": [
    "import pandas as pd\n",
    "import mysql.connector\n",
    "df=pd.read_csv(\"marketing_sample_for_amazon_com-ecommerce__20200101_20200131__10k_data.csv\")\n",
    "print(df.columns)\n",
    "mydb = mysql.connector.connect(\n",
    "  host=\"localhost\",\n",
    "  user=\"root\",\n",
    "  password=\"root\",\n",
    "  database=\"product\",\n",
    ")\n",
    "df = df.where(pd.notnull(df), None)\n",
    "\n",
    "\n",
    "insert_query = \"\"\"\n",
    "    INSERT INTO items (UniqId, ProductName, Category, SellingPrice, AboutProduct, ProductSpecification, TechnicalDetails, Image)\n",
    "    VALUES (%s, %s, %s, %s, %s, %s, %s, %s);\n",
    "\"\"\"\n",
    "mycursor = mydb.cursor()\n",
    "for data in zip(df['Uniq Id'],df['Product Name'],df['Category'],df['Selling Price'],df['About Product'],df['Product Specification'],df['Technical Details'],df['Image']):\n",
    "  try:\n",
    "    mycursor.execute(insert_query,data)\n",
    "  except:pass\n",
    "\n",
    "\n",
    "mydb.commit()\n",
    "mycursor.close()\n",
    "mydb.close()\n",
    "\n",
    "    \n",
    "\n",
    "\n"
   ]
  }
 ],
 "metadata": {
  "kernelspec": {
   "display_name": "tables",
   "language": "python",
   "name": "python3"
  },
  "language_info": {
   "codemirror_mode": {
    "name": "ipython",
    "version": 3
   },
   "file_extension": ".py",
   "mimetype": "text/x-python",
   "name": "python",
   "nbconvert_exporter": "python",
   "pygments_lexer": "ipython3",
   "version": "3.10.9"
  }
 },
 "nbformat": 4,
 "nbformat_minor": 2
}
